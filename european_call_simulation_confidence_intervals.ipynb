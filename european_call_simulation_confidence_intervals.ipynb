{
 "cells": [
  {
   "cell_type": "code",
   "execution_count": 43,
   "metadata": {},
   "outputs": [],
   "source": [
    "import scipy.stats as stats\n",
    "import numpy as np\n",
    "import math as math\n",
    "import pandas as pd\n",
    "import matplotlib.pyplot as plt"
   ]
  },
  {
   "cell_type": "code",
   "execution_count": 44,
   "metadata": {},
   "outputs": [],
   "source": [
    "def simulate_gbm(r,q,sigma,T,num_divisons,spot):\n",
    "    delta_t=T*1.0/num_divisons\n",
    "    S=spot\n",
    "    nu=(r-q-(sigma**2/2))\n",
    "    for i in range(num_divisons):\n",
    "        z=np.random.standard_normal(1)\n",
    "        S=S*math.exp(nu*delta_t+sigma*math.sqrt(delta_t)*z)\n",
    "    return S\n",
    "\n",
    "\n",
    "def black_scholes (cp, s, k, t, v, rf, div):\n",
    "        \"\"\" Price an option using the Black-Scholes model.\n",
    "        s: initial stock price\n",
    "        k: strike price\n",
    "        t: expiration time\n",
    "        v: volatility\n",
    "        rf: risk-free rate\n",
    "        div: dividend\n",
    "        cp: +1/-1 for call/put\n",
    "        \"\"\"\n",
    "\n",
    "        d1 = (math.log(s/k)+(rf-div+0.5*math.pow(v,2))*t)/(v*math.sqrt(t))\n",
    "        d2 = d1 - v*math.sqrt(t)\n",
    "\n",
    "        optprice = (cp*s*math.exp(-div*t)*stats.norm.cdf(cp*d1)) - (cp*k*math.exp(-rf*t)*stats.norm.cdf(cp*d2))\n",
    "        return optprice\n",
    "\n",
    "    \n",
    "def calculate_price_ci_european_call(r,q,sigma,T,spot,K,n_simulation_paths,alpha):\n",
    "    Y=[]\n",
    "    price=0\n",
    "    discouting_factor=math.exp(-r*T) \n",
    "    for i in range(n_simulation_paths):\n",
    "        S_T=simulate_gbm(r,q,sigma,T,400,spot)\n",
    "        Y.append(discouting_factor*max(S_T-K,0))\n",
    "\n",
    "    \n",
    "    price=np.mean(Y)\n",
    "    sample_std=np.std(Y)\n",
    "\n",
    "    lower_bound_clt= price-((sample_std)/math.sqrt(n_simulation_paths))*stats.norm.ppf(1.0-(alpha/2))\n",
    "    upper_bound_clt= price+((sample_std)/math.sqrt(n_simulation_paths))*stats.norm.ppf(1.0-(alpha/2))\n",
    "    \n",
    "    return (price,lower_bound_clt,upper_bound_clt)\n",
    "\n",
    "\n",
    "    \n",
    "    \n"
   ]
  },
  {
   "cell_type": "code",
   "execution_count": 45,
   "metadata": {},
   "outputs": [
    {
     "name": "stdout",
     "output_type": "stream",
     "text": [
      "----CLT CI------\n",
      "Price: 18.835320599215375 LB: 18.33867571114563 UB:19.33196548728512 Width of CI: 0.9932897761394912\n",
      "True BS Price: 18.958601352808394\n"
     ]
    }
   ],
   "source": [
    "#calculating price of the call using monte-carlo simulation\n",
    "\n",
    "#option parameters\n",
    "r=0.05\n",
    "q=0.01\n",
    "T=1\n",
    "sigma=0.30\n",
    "spot=100\n",
    "K=90\n",
    "true_price=black_scholes(1,100,90,1,0.30,0.05,0.01)\n",
    "n_simulation_paths=10000\n",
    "alpha=0.05 # 95% CI\n",
    "print(\"----CLT CI------\")\n",
    "(price,lb,ub)=calculate_price_ci_european_call(r,q,sigma,T,spot,K,n_simulation_paths,alpha)\n",
    "print(\"Price: \"+str(price)+\" LB: \"+str(lb)+\" UB:\"+str(ub)+\" Width of CI: \"+str(ub-lb))\n",
    "print(\"True BS Price: \"+str(true_price))\n",
    "\n",
    "\n"
   ]
  },
  {
   "cell_type": "code",
   "execution_count": 46,
   "metadata": {},
   "outputs": [
    {
     "name": "stdout",
     "output_type": "stream",
     "text": [
      "---------Bootstrap CI-----\n",
      "LB:18.546199715849284 UB: 19.48021253487888 Width of CI:0.9340128190295971\n"
     ]
    }
   ],
   "source": [
    "from collections import defaultdict\n",
    "import scipy as sp\n",
    "# Calulating CI using Bootstrap\n",
    "N= 10000 #samples to generate empirical distribution\n",
    "B=100 #bootstrap samples\n",
    "S_T=[simulate_gbm(r,q,sigma,T,400,spot) for _ in range(N)]\n",
    "discouting_factor=math.exp(-r*T)\n",
    "price_Fe=discouting_factor*np.mean([max(s-K,0) for s in S_T])\n",
    "\n",
    "cdf=np.cumsum(np.ones(N)/N)\n",
    "S_T_sorted=sorted(S_T)\n",
    "theta_b=[]\n",
    "Z_b=[]\n",
    "Ss=[]\n",
    "for i in range(B):\n",
    "    ## we have to sample from F*\n",
    "    Ss=(sp.interpolate.interp1d(np.insert(cdf,0,0),[0.00000001]+S_T_sorted,'linear')(np.random.uniform(0,1,N)))\n",
    "    price_b=discouting_factor*np.mean([max(s-K,0) for s in Ss])\n",
    "    theta_b.append(price_b)\n",
    "    Z_b.append((price_b-price_Fe)**2)\n",
    "\n",
    "mse= np.mean(Z_b)\n",
    "theta_b_sorted=sorted(theta_b)\n",
    "\n",
    "\n",
    "print(\"---------Bootstrap CI-----\")\n",
    "bootstrap_lb_ci=(price_Fe-math.sqrt(mse)*stats.norm.ppf(1-(alpha/2)))\n",
    "\n",
    "bootstrap_ub_ci=(price_Fe+math.sqrt(mse)*stats.norm.ppf(1-(alpha/2)))\n",
    "\n",
    "print(\"LB:\"+str(bootstrap_lb_ci)+\" UB: \"+str(bootstrap_ub_ci)+ \" Width of CI:\"+str(bootstrap_ub_ci-bootstrap_lb_ci))"
   ]
  },
  {
   "cell_type": "code",
   "execution_count": null,
   "metadata": {},
   "outputs": [],
   "source": []
  },
  {
   "cell_type": "code",
   "execution_count": null,
   "metadata": {},
   "outputs": [],
   "source": []
  },
  {
   "cell_type": "code",
   "execution_count": null,
   "metadata": {},
   "outputs": [],
   "source": []
  }
 ],
 "metadata": {
  "kernelspec": {
   "display_name": "Python 3",
   "language": "python",
   "name": "python3"
  },
  "language_info": {
   "codemirror_mode": {
    "name": "ipython",
    "version": 3
   },
   "file_extension": ".py",
   "mimetype": "text/x-python",
   "name": "python",
   "nbconvert_exporter": "python",
   "pygments_lexer": "ipython3",
   "version": "3.6.3"
  }
 },
 "nbformat": 4,
 "nbformat_minor": 2
}
