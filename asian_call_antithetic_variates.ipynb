{
 "cells": [
  {
   "cell_type": "code",
   "execution_count": 30,
   "metadata": {},
   "outputs": [],
   "source": [
    "import scipy.stats as stats\n",
    "import numpy as np\n",
    "import math as math\n",
    "import pandas as pd\n",
    "import matplotlib.pyplot as plt"
   ]
  },
  {
   "cell_type": "code",
   "execution_count": 31,
   "metadata": {},
   "outputs": [
    {
     "name": "stdout",
     "output_type": "stream",
     "text": [
      "----Standard Monte-Carlo CI------\n",
      "Standard Monte-Carlo variance: 0.06949247440579331\n",
      "Price: 35.64156586433876 LB: 33.59163972303649 UB:36.32059118215213\n"
     ]
    }
   ],
   "source": [
    "def simulate_gbm_time_series(r,q,sigma,T,num_divisons,spot):\n",
    "    delta_t=T*1.0/num_divisons\n",
    "    S=spot\n",
    "    time_series=[]\n",
    "    time_series.append(S)\n",
    "    nu=(r-q-(sigma**2/2))\n",
    "    for i in range(num_divisons):\n",
    "        z=np.random.standard_normal(1)\n",
    "        S=S*math.exp(nu*delta_t+sigma*math.sqrt(delta_t)*z)\n",
    "        time_series.append(S)\n",
    "    return time_series\n",
    "\n",
    "def simulate_gbm_time_series_antithetic(r,q,sigma,T,num_divisons,spot):\n",
    "    delta_t=T*1.0/num_divisons\n",
    "    S=spot\n",
    "    Sa=spot\n",
    "    time_series=[]\n",
    "    time_series_a=[]\n",
    "    time_series.append(S)\n",
    "    time_series_a.append(S)\n",
    "    nu=(r-q-(sigma**2/2))\n",
    "    for i in range(num_divisons):\n",
    "        z=np.random.standard_normal(1)\n",
    "        S=S*math.exp(nu*delta_t+sigma*math.sqrt(delta_t)*z)\n",
    "        Sa=Sa*math.exp(nu*delta_t+sigma*math.sqrt(delta_t)*-z)\n",
    "        time_series.append(S)\n",
    "        time_series_a.append(Sa)\n",
    "    return [time_series,time_series_a]\n",
    "\n",
    "def calculate_price_ci_asian_call(r,q,sigma,T,spot,K,n_simulation_paths,alpha,resampling_rate):\n",
    "    Y=[]\n",
    "    price=0\n",
    "    discouting_factor=math.exp(-r*T) \n",
    "    \n",
    "    # sampling payoffs\n",
    "    for i in range(n_simulation_paths):\n",
    "        time_series=simulate_gbm_time_series(r,q,sigma,T,resampling_rate*20,spot)[::20]\n",
    "        Y.append(discouting_factor*max(np.mean(time_series)-K,0))\n",
    "\n",
    "    \n",
    "    price=np.mean(Y)\n",
    "    sample_std=np.std(Y)\n",
    "    \n",
    "    print(\"Standard Monte-Carlo variance: \"+str(np.var(Y)/n_simulation_paths))\n",
    "\n",
    "    lower_bound_clt= price-((sample_std)/math.sqrt(n_simulation_paths))*stats.norm.ppf(1.0-(alpha/2))\n",
    "    upper_bound_clt= price+((sample_std)/math.sqrt(n_simulation_paths))*stats.norm.ppf(1.0-(alpha/2))\n",
    "    \n",
    "    return (price,discouting_factor*lower_bound_clt,upper_bound_clt)\n",
    "\n",
    "\n",
    "\n",
    "r=0.04\n",
    "q=0.015\n",
    "T=1\n",
    "sigma=0.30\n",
    "spot=1000\n",
    "K=1100\n",
    "m=15\n",
    "n_simulation_paths=50000\n",
    "alpha=0.01\n",
    "\n",
    "\n",
    "print(\"----Standard Monte-Carlo CI------\")\n",
    "(price,lb,ub)=calculate_price_ci_asian_call(r,q,sigma,T,spot,K,2*n_simulation_paths,alpha,m)\n",
    "print(\"Price: \"+str(price)+\" LB: \"+str(lb)+\" UB:\"+str(ub))\n",
    "\n",
    "\n",
    "\n"
   ]
  },
  {
   "cell_type": "code",
   "execution_count": 32,
   "metadata": {},
   "outputs": [
    {
     "name": "stdout",
     "output_type": "stream",
     "text": [
      "----Antithetic CI------\n",
      "w/ Antithetic Monte-Carlo variance: 0.05668528359326085\n",
      "Price: 35.50864987073173 LB: 34.89537913488919 UB:36.12192060657427\n"
     ]
    }
   ],
   "source": [
    "def calculate_price_ci_asian_call_w_antithetic(r,q,sigma,T,spot,K,n_simulation_paths,alpha,resampling_rate):\n",
    "    Y=[]\n",
    "    price=0\n",
    "    discouting_factor=math.exp(-r*T) \n",
    "    \n",
    "    # sampling payoffs\n",
    "    for i in range(n_simulation_paths):\n",
    "        [time_series,time_series_a]=simulate_gbm_time_series_antithetic(r,q,sigma,T,resampling_rate*20,spot)\n",
    "        time_series=time_series[::20]\n",
    "        time_series_a=time_series_a[::20]\n",
    "        C1=discouting_factor*max(np.mean(time_series)-K,0)\n",
    "        C2=discouting_factor*max(np.mean(time_series_a)-K,0)\n",
    "        Y.append((C1+C2)/2)\n",
    "\n",
    "    \n",
    "    price=np.mean(Y)\n",
    "    sample_std=np.std(Y)\n",
    "    \n",
    "    print(\"w/ Antithetic Monte-Carlo variance: \"+str(np.var(Y)/n_simulation_paths))\n",
    "\n",
    "    lower_bound_clt= price-((sample_std)/math.sqrt(n_simulation_paths))*stats.norm.ppf(1.0-(alpha/2))\n",
    "    upper_bound_clt= price+((sample_std)/math.sqrt(n_simulation_paths))*stats.norm.ppf(1.0-(alpha/2))\n",
    "    \n",
    "    return (price,lower_bound_clt,upper_bound_clt)\n",
    "\n",
    "\n",
    "print(\"----Antithetic CI------\")\n",
    "(price,lb,ub)=calculate_price_ci_asian_call_w_antithetic(r,q,sigma,T,spot,K,n_simulation_paths,alpha,m)\n",
    "print(\"Price: \"+str(price)+\" LB: \"+str(lb)+\" UB:\"+str(ub))        \n"
   ]
  },
  {
   "cell_type": "code",
   "execution_count": null,
   "metadata": {},
   "outputs": [],
   "source": [
    "\n",
    "\n"
   ]
  },
  {
   "cell_type": "code",
   "execution_count": null,
   "metadata": {},
   "outputs": [],
   "source": []
  }
 ],
 "metadata": {
  "kernelspec": {
   "display_name": "Python 3",
   "language": "python",
   "name": "python3"
  },
  "language_info": {
   "codemirror_mode": {
    "name": "ipython",
    "version": 3
   },
   "file_extension": ".py",
   "mimetype": "text/x-python",
   "name": "python",
   "nbconvert_exporter": "python",
   "pygments_lexer": "ipython3",
   "version": "3.6.3"
  }
 },
 "nbformat": 4,
 "nbformat_minor": 2
}
