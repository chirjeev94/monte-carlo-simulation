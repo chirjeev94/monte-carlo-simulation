{
 "cells": [
  {
   "cell_type": "code",
   "execution_count": 40,
   "metadata": {},
   "outputs": [
    {
     "name": "stdout",
     "output_type": "stream",
     "text": [
      "estimate : 0.8413240316826252\n",
      "actual : 0.841344746069\n",
      "difference: 2.07143859178e-05\n"
     ]
    }
   ],
   "source": [
    "import numpy as np\n",
    "from scipy.stats import norm\n",
    "import math\n",
    "# Trying to estimate the integral of a gaussian pdf from -inf to 1\n",
    "\n",
    "def transformation(u):\n",
    "    #print(u)\n",
    "    return (1/((2.0*math.pi)**0.5))*math.exp(-0.5*(u**2))\n",
    "\n",
    "num_of_samples= 10000\n",
    "sum=0\n",
    "for i in range(num_of_samples):\n",
    "    sum= sum + transformation(1.0*np.random.uniform(0,1,1))\n",
    "\n",
    "theta_estimate= 0.5 + (sum/num_of_samples) \n",
    "theta_actual=(norm.cdf(1.0))\n",
    "print(\"estimate :\",theta_estimate)\n",
    "print(\"actual :\",theta_actual)\n",
    "print(\"difference:\",theta_actual-theta_estimate)              "
   ]
  },
  {
   "cell_type": "code",
   "execution_count": null,
   "metadata": {},
   "outputs": [],
   "source": [
    "\n"
   ]
  },
  {
   "cell_type": "code",
   "execution_count": null,
   "metadata": {},
   "outputs": [],
   "source": []
  },
  {
   "cell_type": "code",
   "execution_count": null,
   "metadata": {},
   "outputs": [],
   "source": []
  }
 ],
 "metadata": {
  "kernelspec": {
   "display_name": "Python 3",
   "language": "python",
   "name": "python3"
  },
  "language_info": {
   "codemirror_mode": {
    "name": "ipython",
    "version": 3
   },
   "file_extension": ".py",
   "mimetype": "text/x-python",
   "name": "python",
   "nbconvert_exporter": "python",
   "pygments_lexer": "ipython3",
   "version": "3.6.3"
  }
 },
 "nbformat": 4,
 "nbformat_minor": 2
}
